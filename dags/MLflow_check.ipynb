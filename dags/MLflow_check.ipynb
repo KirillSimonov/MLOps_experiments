{
 "cells": [
  {
   "cell_type": "code",
   "execution_count": 1,
   "id": "7cdd69e8",
   "metadata": {},
   "outputs": [],
   "source": [
    "import mlflow\n",
    "import os\n",
    "import pandas as pd\n",
    "\n",
    "from mlflow.tracking import MlflowClient\n",
    "from mlflow.models import infer_signature\n",
    "from mlflow.store.artifact.artifact_repository_registry import get_artifact_repository\n",
    "\n",
    "from sklearn.datasets import fetch_california_housing\n",
    "from sklearn.ensemble import RandomForestRegressor, HistGradientBoostingRegressor\n",
    "from sklearn.linear_model import LinearRegression\n",
    "from sklearn.metrics import mean_squared_error, r2_score\n",
    "from sklearn.model_selection import train_test_split"
   ]
  },
  {
   "cell_type": "code",
   "execution_count": 2,
   "id": "e83f5460-00fa-4c0f-8af1-6d594ddbdc56",
   "metadata": {},
   "outputs": [
    {
     "data": {
      "text/plain": [
       "'http://mlflow-service:5000'"
      ]
     },
     "execution_count": 2,
     "metadata": {},
     "output_type": "execute_result"
    }
   ],
   "source": [
    "os.getenv(\"MLFLOW_TRACKING_URI\", \"No env\")"
   ]
  },
  {
   "cell_type": "code",
   "execution_count": 3,
   "id": "c5ed77d3",
   "metadata": {},
   "outputs": [
    {
     "data": {
      "text/plain": [
       "'http://mlflow-service:5000'"
      ]
     },
     "execution_count": 3,
     "metadata": {},
     "output_type": "execute_result"
    }
   ],
   "source": [
    "mlflow.get_registry_uri()"
   ]
  },
  {
   "cell_type": "markdown",
   "id": "3b610c24-ef75-4042-920a-7e5de4b54745",
   "metadata": {},
   "source": [
    "# Управление экспериментами"
   ]
  },
  {
   "cell_type": "code",
   "execution_count": 9,
   "id": "407a35f0",
   "metadata": {},
   "outputs": [],
   "source": [
    "exp_id = mlflow.create_experiment(name=\"test\")"
   ]
  },
  {
   "cell_type": "code",
   "execution_count": 10,
   "id": "53c0d7f7-992d-4ab0-a3a3-b5684e5e191f",
   "metadata": {},
   "outputs": [
    {
     "data": {
      "text/plain": [
       "'958964435771505022'"
      ]
     },
     "execution_count": 10,
     "metadata": {},
     "output_type": "execute_result"
    }
   ],
   "source": [
    "exp_id"
   ]
  },
  {
   "cell_type": "code",
   "execution_count": 1,
   "id": "ac1236bf-a699-426c-9b57-c840ef133add",
   "metadata": {},
   "outputs": [],
   "source": [
    "# mlflow.delete_experiment(experiment_id=exp_id)"
   ]
  },
  {
   "cell_type": "markdown",
   "id": "40d8da88-6e20-4b70-bb4b-10bbe3eae1b1",
   "metadata": {},
   "source": [
    "Не забудьте про rm -rf mlruns/trash/*"
   ]
  },
  {
   "cell_type": "code",
   "execution_count": 12,
   "id": "4c0e7f2b-387d-4bd3-903d-7a597cd5f404",
   "metadata": {},
   "outputs": [
    {
     "data": {
      "text/plain": [
       "[<Experiment: artifact_location='s3://kirillbucket/mlflow/958964435771505022', creation_time=1732195333448, experiment_id='958964435771505022', last_update_time=1732195333448, lifecycle_stage='active', name='test', tags={}>]"
      ]
     },
     "execution_count": 12,
     "metadata": {},
     "output_type": "execute_result"
    }
   ],
   "source": [
    "mlflow.search_experiments(\n",
    "    filter_string=\"name = 'test'\"\n",
    ")"
   ]
  },
  {
   "cell_type": "code",
   "execution_count": 13,
   "id": "0a11f591-b1ac-4a8c-9676-da423cea7cd3",
   "metadata": {},
   "outputs": [
    {
     "data": {
      "text/plain": [
       "[<Experiment: artifact_location='s3://kirillbucket/mlflow/958964435771505022', creation_time=1732195333448, experiment_id='958964435771505022', last_update_time=1732195333448, lifecycle_stage='active', name='test', tags={}>,\n",
       " <Experiment: artifact_location='s3://kirillbucket/mlflow/0', creation_time=1732185954947, experiment_id='0', last_update_time=1732185954947, lifecycle_stage='active', name='Default', tags={}>]"
      ]
     },
     "execution_count": 13,
     "metadata": {},
     "output_type": "execute_result"
    }
   ],
   "source": [
    "mlflow.search_experiments()"
   ]
  },
  {
   "cell_type": "code",
   "execution_count": 14,
   "id": "1b9ad128-f796-40be-9df7-bf2347509841",
   "metadata": {},
   "outputs": [
    {
     "name": "stderr",
     "output_type": "stream",
     "text": [
      "2024/11/21 13:26:10 INFO mlflow.tracking._tracking_service.client: 🏃 View run burly-trout-19 at: http://mlflow-service:5000/#/experiments/958964435771505022/runs/3b4400e7dfb84cf7a35025c4e751f342.\n",
      "2024/11/21 13:26:10 INFO mlflow.tracking._tracking_service.client: 🧪 View experiment at: http://mlflow-service:5000/#/experiments/958964435771505022.\n"
     ]
    },
    {
     "ename": "NameError",
     "evalue": "name 'model' is not defined",
     "output_type": "error",
     "traceback": [
      "\u001b[0;31m---------------------------------------------------------------------------\u001b[0m",
      "\u001b[0;31mNameError\u001b[0m                                 Traceback (most recent call last)",
      "Cell \u001b[0;32mIn[14], line 5\u001b[0m\n\u001b[1;32m      1\u001b[0m mlflow\u001b[38;5;241m.\u001b[39mset_experiment(experiment_name\u001b[38;5;241m=\u001b[39m\u001b[38;5;124m\"\u001b[39m\u001b[38;5;124mtest\u001b[39m\u001b[38;5;124m\"\u001b[39m)\n\u001b[1;32m      3\u001b[0m \u001b[38;5;28;01mwith\u001b[39;00m mlflow\u001b[38;5;241m.\u001b[39mstart_run():\n\u001b[1;32m      4\u001b[0m     \u001b[38;5;66;03m# Обучим модель.\u001b[39;00m\n\u001b[0;32m----> 5\u001b[0m     \u001b[43mmodel\u001b[49m\u001b[38;5;241m.\u001b[39mfit(X_train, y_train)\n",
      "\u001b[0;31mNameError\u001b[0m: name 'model' is not defined"
     ]
    }
   ],
   "source": [
    "mlflow.set_experiment(experiment_name=\"test\")\n",
    "\n",
    "with mlflow.start_run():\n",
    "    # Обучим модель.\n",
    "    model.fit(X_train, y_train)"
   ]
  },
  {
   "cell_type": "markdown",
   "id": "5b9b14ba-38d8-4349-975c-0f22bf5074de",
   "metadata": {},
   "source": [
    "# Что можно отслеживать в рамках эксперимента"
   ]
  },
  {
   "cell_type": "code",
   "execution_count": 15,
   "id": "33b7e3e8-77f4-4811-acf4-9aac7342fd44",
   "metadata": {},
   "outputs": [],
   "source": [
    "# Прочитаем данные.\n",
    "housing = fetch_california_housing(as_frame=True)"
   ]
  },
  {
   "cell_type": "code",
   "execution_count": 16,
   "id": "6afa2419-adb7-4012-a514-21aa867a37a1",
   "metadata": {},
   "outputs": [],
   "source": [
    "X_train, X_test, y_train, y_test = train_test_split(housing['data'], housing['target'])\n",
    "X_val, X_test, y_val, y_test = train_test_split(X_test, y_test, test_size=0.5)"
   ]
  },
  {
   "cell_type": "code",
   "execution_count": 17,
   "id": "c5c61e9f-1718-4b06-af04-0004e61c93c7",
   "metadata": {},
   "outputs": [
    {
     "data": {
      "text/html": [
       "<div>\n",
       "<style scoped>\n",
       "    .dataframe tbody tr th:only-of-type {\n",
       "        vertical-align: middle;\n",
       "    }\n",
       "\n",
       "    .dataframe tbody tr th {\n",
       "        vertical-align: top;\n",
       "    }\n",
       "\n",
       "    .dataframe thead th {\n",
       "        text-align: right;\n",
       "    }\n",
       "</style>\n",
       "<table border=\"1\" class=\"dataframe\">\n",
       "  <thead>\n",
       "    <tr style=\"text-align: right;\">\n",
       "      <th></th>\n",
       "      <th>MedInc</th>\n",
       "      <th>HouseAge</th>\n",
       "      <th>AveRooms</th>\n",
       "      <th>AveBedrms</th>\n",
       "      <th>Population</th>\n",
       "      <th>AveOccup</th>\n",
       "      <th>Latitude</th>\n",
       "      <th>Longitude</th>\n",
       "    </tr>\n",
       "  </thead>\n",
       "  <tbody>\n",
       "    <tr>\n",
       "      <th>2435</th>\n",
       "      <td>3.5987</td>\n",
       "      <td>19.0</td>\n",
       "      <td>6.167260</td>\n",
       "      <td>1.078292</td>\n",
       "      <td>911.0</td>\n",
       "      <td>3.241993</td>\n",
       "      <td>36.57</td>\n",
       "      <td>-119.59</td>\n",
       "    </tr>\n",
       "    <tr>\n",
       "      <th>890</th>\n",
       "      <td>6.6290</td>\n",
       "      <td>25.0</td>\n",
       "      <td>6.154545</td>\n",
       "      <td>0.872727</td>\n",
       "      <td>596.0</td>\n",
       "      <td>2.709091</td>\n",
       "      <td>37.54</td>\n",
       "      <td>-121.93</td>\n",
       "    </tr>\n",
       "    <tr>\n",
       "      <th>1310</th>\n",
       "      <td>3.3625</td>\n",
       "      <td>13.0</td>\n",
       "      <td>5.044395</td>\n",
       "      <td>1.056604</td>\n",
       "      <td>2188.0</td>\n",
       "      <td>2.428413</td>\n",
       "      <td>37.99</td>\n",
       "      <td>-121.84</td>\n",
       "    </tr>\n",
       "    <tr>\n",
       "      <th>5907</th>\n",
       "      <td>4.6864</td>\n",
       "      <td>35.0</td>\n",
       "      <td>6.450495</td>\n",
       "      <td>1.106436</td>\n",
       "      <td>1555.0</td>\n",
       "      <td>3.849010</td>\n",
       "      <td>34.29</td>\n",
       "      <td>-118.44</td>\n",
       "    </tr>\n",
       "    <tr>\n",
       "      <th>2089</th>\n",
       "      <td>2.1055</td>\n",
       "      <td>52.0</td>\n",
       "      <td>5.178495</td>\n",
       "      <td>1.070968</td>\n",
       "      <td>1361.0</td>\n",
       "      <td>2.926882</td>\n",
       "      <td>36.76</td>\n",
       "      <td>-119.79</td>\n",
       "    </tr>\n",
       "  </tbody>\n",
       "</table>\n",
       "</div>"
      ],
      "text/plain": [
       "      MedInc  HouseAge  AveRooms  AveBedrms  Population  AveOccup  Latitude  \\\n",
       "2435  3.5987      19.0  6.167260   1.078292       911.0  3.241993     36.57   \n",
       "890   6.6290      25.0  6.154545   0.872727       596.0  2.709091     37.54   \n",
       "1310  3.3625      13.0  5.044395   1.056604      2188.0  2.428413     37.99   \n",
       "5907  4.6864      35.0  6.450495   1.106436      1555.0  3.849010     34.29   \n",
       "2089  2.1055      52.0  5.178495   1.070968      1361.0  2.926882     36.76   \n",
       "\n",
       "      Longitude  \n",
       "2435    -119.59  \n",
       "890     -121.93  \n",
       "1310    -121.84  \n",
       "5907    -118.44  \n",
       "2089    -119.79  "
      ]
     },
     "execution_count": 17,
     "metadata": {},
     "output_type": "execute_result"
    }
   ],
   "source": [
    "X_test.head()"
   ]
  },
  {
   "cell_type": "markdown",
   "id": "08c946b7-0b4d-4784-85b2-260ad941ee2a",
   "metadata": {},
   "source": [
    "## Первый запуск run"
   ]
  },
  {
   "cell_type": "code",
   "execution_count": 19,
   "id": "b84285a0-8beb-48a0-9b31-7074fc7f9503",
   "metadata": {},
   "outputs": [],
   "source": [
    "model = LinearRegression()"
   ]
  },
  {
   "cell_type": "code",
   "execution_count": 20,
   "id": "fe40f05f-ff90-49e6-a9cc-8a1d16266185",
   "metadata": {},
   "outputs": [
    {
     "name": "stderr",
     "output_type": "stream",
     "text": [
      "2024/11/21 13:28:20 INFO mlflow.tracking._tracking_service.client: 🏃 View run righteous-whale-229 at: http://mlflow-service:5000/#/experiments/958964435771505022/runs/55d1a97b399d4f7db193485c0e09f17f.\n",
      "2024/11/21 13:28:20 INFO mlflow.tracking._tracking_service.client: 🧪 View experiment at: http://mlflow-service:5000/#/experiments/958964435771505022.\n"
     ]
    }
   ],
   "source": [
    "# Запустим свой первый run в рамках созданного выше эксперимента.\n",
    "with mlflow.start_run(experiment_id=exp_id) as run:\n",
    "    # Обучим модель.\n",
    "    model.fit(X_train, y_train)"
   ]
  },
  {
   "cell_type": "markdown",
   "id": "8c6d245c-fcec-42d1-ae0f-08c45d8ea5f9",
   "metadata": {},
   "source": [
    "## Ручное логирование метрик"
   ]
  },
  {
   "cell_type": "code",
   "execution_count": 21,
   "id": "f62334ec-185e-49ad-9be6-d072ab24afe7",
   "metadata": {},
   "outputs": [],
   "source": [
    "model = RandomForestRegressor()"
   ]
  },
  {
   "cell_type": "code",
   "execution_count": 22,
   "id": "81202eac-be93-43e9-b420-611d2f0a8f9a",
   "metadata": {},
   "outputs": [],
   "source": [
    "params = {'n_estimators':50, 'min_samples_split':3}"
   ]
  },
  {
   "cell_type": "code",
   "execution_count": 23,
   "id": "c3ed7ce7-ab54-4326-865c-ac1c63f4efca",
   "metadata": {},
   "outputs": [
    {
     "name": "stderr",
     "output_type": "stream",
     "text": [
      "2024/11/21 13:30:18 INFO mlflow.tracking._tracking_service.client: 🏃 View run placid-yak-867 at: http://mlflow-service:5000/#/experiments/958964435771505022/runs/c9a950071976472eb952c5f003bd660e.\n",
      "2024/11/21 13:30:18 INFO mlflow.tracking._tracking_service.client: 🧪 View experiment at: http://mlflow-service:5000/#/experiments/958964435771505022.\n"
     ]
    }
   ],
   "source": [
    "# Запустим свой первый run в рамках созданного выше эксперимента.\n",
    "with mlflow.start_run(experiment_id=exp_id) as run:\n",
    "\n",
    "    # Обучим модель.\n",
    "    model.fit(X_train, y_train)\n",
    "\n",
    "    # Сделаем предсказание.\n",
    "    prediction = model.predict(X_val)\n",
    "\n",
    "    mlflow.log_metrics({'r2':r2_score(y_val, prediction),\n",
    "                        'mse':mean_squared_error(y_val, prediction)})\n",
    "\n",
    "    mlflow.log_params(params)"
   ]
  },
  {
   "cell_type": "markdown",
   "id": "15527b1b-1143-4cff-a1c7-1ccb68b91abe",
   "metadata": {},
   "source": [
    "## Автоматическая оценка модели"
   ]
  },
  {
   "cell_type": "code",
   "execution_count": 24,
   "id": "8016155f-6e87-43a8-91e3-e0646af9232b",
   "metadata": {},
   "outputs": [
    {
     "name": "stderr",
     "output_type": "stream",
     "text": [
      "Matplotlib is building the font cache; this may take a moment.\n",
      "2024/11/21 13:51:16 INFO mlflow.models.evaluation.default_evaluator: Testing metrics on first row...\n",
      "2024/11/21 13:51:16 WARNING mlflow.models.evaluation.default_evaluator: SHAP or matplotlib package is not installed, so model explainability insights will not be logged.\n",
      "2024/11/21 13:51:26 INFO mlflow.tracking._tracking_service.client: 🏃 View run smiling-fox-610 at: http://mlflow-service:5000/#/experiments/958964435771505022/runs/3df8075f35584a648e6ba23f1e9310c5.\n",
      "2024/11/21 13:51:26 INFO mlflow.tracking._tracking_service.client: 🧪 View experiment at: http://mlflow-service:5000/#/experiments/958964435771505022.\n"
     ]
    }
   ],
   "source": [
    "# Запустим свой первый run в рамках созданного выше эксперимента.\n",
    "with mlflow.start_run(experiment_id=exp_id) as run:\n",
    "    # Обучим модель.\n",
    "    model.fit(X_train, y_train)\n",
    "\n",
    "    # Сделаем предсказание.\n",
    "    prediction = model.predict(X_val)\n",
    "\n",
    "    # Создадим валидационный датасет.\n",
    "    eval_df = X_val.copy()\n",
    "    eval_df[\"target\"] = y_val\n",
    "    eval_df[\"prediction\"] = prediction\n",
    "\n",
    "    # Сохраним результаты обучения с помощью MLFlow.\n",
    "    mlflow.evaluate(\n",
    "        data=eval_df,\n",
    "        targets=\"target\",\n",
    "        predictions=\"prediction\",\n",
    "        model_type=\"regressor\",\n",
    "        evaluators=[\"default\"],\n",
    "    )"
   ]
  },
  {
   "cell_type": "markdown",
   "id": "cc3e01d7-9f0e-41cc-a18a-4fe20bcf530b",
   "metadata": {},
   "source": [
    "## Логирование модели в хранилище артефактов"
   ]
  },
  {
   "cell_type": "code",
   "execution_count": 160,
   "id": "fba7f7cd-e0f5-4e14-9b56-9cfaf6195847",
   "metadata": {},
   "outputs": [],
   "source": [
    "model = LinearRegression()"
   ]
  },
  {
   "cell_type": "code",
   "execution_count": 25,
   "id": "5fb8857c-6150-48a6-a70f-c2924bd11962",
   "metadata": {},
   "outputs": [
    {
     "data": {
      "application/vnd.jupyter.widget-view+json": {
       "model_id": "1e731979ab594e4ba10c15921915ae83",
       "version_major": 2,
       "version_minor": 0
      },
      "text/plain": [
       "Downloading artifacts:   0%|          | 0/5 [00:00<?, ?it/s]"
      ]
     },
     "metadata": {},
     "output_type": "display_data"
    },
    {
     "name": "stderr",
     "output_type": "stream",
     "text": [
      "2024/11/21 13:59:26 INFO mlflow.models.evaluation.default_evaluator: Computing model predictions.\n",
      "2024/11/21 13:59:27 INFO mlflow.models.evaluation.default_evaluator: Testing metrics on first row...\n",
      "2024/11/21 13:59:27 WARNING mlflow.models.evaluation.default_evaluator: SHAP or matplotlib package is not installed, so model explainability insights will not be logged.\n",
      "2024/11/21 13:59:28 INFO mlflow.tracking._tracking_service.client: 🏃 View run secretive-worm-327 at: http://mlflow-service:5000/#/experiments/958964435771505022/runs/29fbb845cc0b48a8b6f4dd330ed068a7.\n",
      "2024/11/21 13:59:28 INFO mlflow.tracking._tracking_service.client: 🧪 View experiment at: http://mlflow-service:5000/#/experiments/958964435771505022.\n"
     ]
    }
   ],
   "source": [
    "# Запустим свой первый run в рамках созданного выше эксперимента.\n",
    "with mlflow.start_run(experiment_id=exp_id) as run:\n",
    "    # Обучим модель.\n",
    "    model.fit(X_train, y_train)\n",
    "\n",
    "    # Сделаем предсказание.\n",
    "    prediction = model.predict(X_val)\n",
    "\n",
    "    # Создадим валидационный датасет.\n",
    "    eval_df = X_val.copy()\n",
    "    eval_df[\"target\"] = y_val\n",
    "    #eval_df[\"prediction\"] = prediction\n",
    "\n",
    "    # Сохраним результаты обучения с помощью MLFlow.\n",
    "    signature = infer_signature(housing['data'], prediction)\n",
    "    model_info = mlflow.sklearn.log_model(model, 'logreg', signature=signature)\n",
    "    mlflow.evaluate(\n",
    "        model=model_info.model_uri,\n",
    "        data=eval_df,\n",
    "        targets=\"target\",\n",
    "        #predictions=\"prediction\",\n",
    "        model_type=\"regressor\",\n",
    "        evaluators=[\"default\"],\n",
    "    )"
   ]
  },
  {
   "cell_type": "code",
   "execution_count": 26,
   "id": "4b63ad72-a711-400a-98b4-d3d068c89513",
   "metadata": {},
   "outputs": [],
   "source": [
    "os.environ[\"MLFLOW_ENABLE_SYSTEM_METRICS_LOGGING\"] = \"true\""
   ]
  },
  {
   "cell_type": "code",
   "execution_count": 27,
   "id": "10bc312a-0068-4101-8f64-e23412bd2209",
   "metadata": {},
   "outputs": [
    {
     "name": "stderr",
     "output_type": "stream",
     "text": [
      "2024/11/21 14:18:20 WARNING mlflow.system_metrics.system_metrics_monitor: Skip logging GPU metrics because creating `GPUMonitor` failed with error: `pynvml` is not installed, to log GPU metrics please run `pip install pynvml` to install it..\n",
      "2024/11/21 14:18:20 INFO mlflow.system_metrics.system_metrics_monitor: Started monitoring system metrics.\n",
      "/opt/conda/lib/python3.11/site-packages/_distutils_hack/__init__.py:18: UserWarning: Distutils was imported before Setuptools, but importing Setuptools also replaces the `distutils` module in `sys.modules`. This may lead to undesirable behaviors or errors. To avoid these issues, avoid using distutils directly, ensure that setuptools is installed in the traditional way (e.g. not an editable install), and/or make sure that setuptools is always imported before distutils.\n",
      "  warnings.warn(\n",
      "/opt/conda/lib/python3.11/site-packages/_distutils_hack/__init__.py:33: UserWarning: Setuptools is replacing distutils.\n",
      "  warnings.warn(\"Setuptools is replacing distutils.\")\n"
     ]
    },
    {
     "data": {
      "application/vnd.jupyter.widget-view+json": {
       "model_id": "17d8cad705ac45dfb58b01379355d635",
       "version_major": 2,
       "version_minor": 0
      },
      "text/plain": [
       "Downloading artifacts:   0%|          | 0/5 [00:00<?, ?it/s]"
      ]
     },
     "metadata": {},
     "output_type": "display_data"
    },
    {
     "name": "stderr",
     "output_type": "stream",
     "text": [
      "2024/11/21 14:19:22 INFO mlflow.models.evaluation.default_evaluator: Computing model predictions.\n",
      "2024/11/21 14:19:23 INFO mlflow.models.evaluation.default_evaluator: Testing metrics on first row...\n",
      "2024/11/21 14:19:23 WARNING mlflow.models.evaluation.default_evaluator: SHAP or matplotlib package is not installed, so model explainability insights will not be logged.\n",
      "2024/11/21 14:19:23 INFO mlflow.tracking._tracking_service.client: 🏃 View run placid-eel-731 at: http://mlflow-service:5000/#/experiments/958964435771505022/runs/1db8588fe7124df3a5717904aefbc45d.\n",
      "2024/11/21 14:19:23 INFO mlflow.tracking._tracking_service.client: 🧪 View experiment at: http://mlflow-service:5000/#/experiments/958964435771505022.\n",
      "2024/11/21 14:19:23 INFO mlflow.system_metrics.system_metrics_monitor: Stopping system metrics monitoring...\n",
      "2024/11/21 14:19:23 INFO mlflow.system_metrics.system_metrics_monitor: Successfully terminated system metrics monitoring!\n"
     ]
    }
   ],
   "source": [
    "# Запустим свой первый run в рамках созданного выше эксперимента.\n",
    "with mlflow.start_run(experiment_id=exp_id) as run:\n",
    "    # Обучим модель.\n",
    "    model.fit(X_train, y_train)\n",
    "\n",
    "    # Сделаем предсказание.\n",
    "    prediction = model.predict(X_val)\n",
    "\n",
    "    # Создадим валидационный датасет.\n",
    "    eval_df = X_val.copy()\n",
    "    eval_df[\"target\"] = y_val\n",
    "    #eval_df[\"prediction\"] = prediction\tMichael «Mike» Score\n",
    "    # Сохраним результаты обучения с помощью MLFlow.\n",
    "    signature = infer_signature(housing['data'], prediction)\n",
    "    model_info = mlflow.sklearn.log_model(model, 'logreg', signature=signature)\n",
    "    mlflow.evaluate(\n",
    "        model=model_info.model_uri,\n",
    "        data=eval_df,\n",
    "        targets=\"target\",\n",
    "        #predictions=\"prediction\",\n",
    "        model_type=\"regressor\",\n",
    "        evaluators=[\"default\"],\n",
    "    )"
   ]
  },
  {
   "cell_type": "code",
   "execution_count": 164,
   "id": "e374939b-8293-4bbc-b953-7971763a13a4",
   "metadata": {},
   "outputs": [],
   "source": [
    "os.environ[\"MLFLOW_ENABLE_SYSTEM_METRICS_LOGGING\"] = \"false\""
   ]
  },
  {
   "cell_type": "code",
   "execution_count": 34,
   "id": "34cb89fa-d281-42b1-9da6-8cb22fe9bce9",
   "metadata": {},
   "outputs": [
    {
     "ename": "NameError",
     "evalue": "name 'experiment_id' is not defined",
     "output_type": "error",
     "traceback": [
      "\u001b[0;31m---------------------------------------------------------------------------\u001b[0m",
      "\u001b[0;31mNameError\u001b[0m                                 Traceback (most recent call last)",
      "Cell \u001b[0;32mIn[34], line 2\u001b[0m\n\u001b[1;32m      1\u001b[0m \u001b[38;5;66;03m# Удалим эксперимент из MLFlow.\u001b[39;00m\n\u001b[0;32m----> 2\u001b[0m mlflow\u001b[38;5;241m.\u001b[39mdelete_experiment(experiment_id\u001b[38;5;241m=\u001b[39m\u001b[43mexperiment_id\u001b[49m)\n",
      "\u001b[0;31mNameError\u001b[0m: name 'experiment_id' is not defined"
     ]
    }
   ],
   "source": [
    "# Удалим эксперимент из MLFlow.\n",
    "mlflow.delete_experiment(experiment_id=exp_id)"
   ]
  },
  {
   "cell_type": "code",
   "execution_count": 166,
   "id": "26c1ff15-25f5-4c8c-818e-c47a98c6a6f0",
   "metadata": {},
   "outputs": [],
   "source": [
    "# Удалим эксперимент из S3.\n",
    "repository = get_artifact_repository(f's3://lizvladi-mlflow-artifacts/mlflow/{exp_id}')\n",
    "repository.delete_artifacts()"
   ]
  },
  {
   "cell_type": "markdown",
   "id": "cf967909-d08a-46ae-a2a4-8d5c7cf39147",
   "metadata": {},
   "source": [
    "## Работа с дочерними ранами"
   ]
  },
  {
   "cell_type": "code",
   "execution_count": 37,
   "id": "fad7d9a3",
   "metadata": {},
   "outputs": [
    {
     "data": {
      "text/plain": [
       "<Experiment: artifact_location='s3://kirillbucket/mlflow/270645224134058005', creation_time=1732199336800, experiment_id='270645224134058005', last_update_time=1732199336800, lifecycle_stage='active', name='parent_run_experiment', tags={}>"
      ]
     },
     "execution_count": 37,
     "metadata": {},
     "output_type": "execute_result"
    }
   ],
   "source": [
    "# Создать новый эксперимент\n",
    "exp_name = \"parent_run_experiment\"\n",
    "experiment_id = mlflow.create_experiment(exp_name)\n",
    "mlflow.set_experiment(exp_name)"
   ]
  },
  {
   "cell_type": "code",
   "execution_count": 38,
   "id": "d78ea6aa-fd15-4822-9db2-db7162dbb177",
   "metadata": {},
   "outputs": [],
   "source": [
    "models = dict(zip([\"RandomForest\", \"LinearRegression\", \"HistGB\"], \n",
    "                  [RandomForestRegressor(), LinearRegression(), HistGradientBoostingRegressor()]))"
   ]
  },
  {
   "cell_type": "code",
   "execution_count": 39,
   "id": "8d1b1976-bb5b-4f59-9a77-60d1703d9860",
   "metadata": {},
   "outputs": [
    {
     "name": "stderr",
     "output_type": "stream",
     "text": [
      "2024/11/21 14:28:59 WARNING mlflow.system_metrics.system_metrics_monitor: Skip logging GPU metrics because creating `GPUMonitor` failed with error: `pynvml` is not installed, to log GPU metrics please run `pip install pynvml` to install it..\n",
      "2024/11/21 14:28:59 INFO mlflow.system_metrics.system_metrics_monitor: Started monitoring system metrics.\n",
      "2024/11/21 14:28:59 WARNING mlflow.system_metrics.system_metrics_monitor: Skip logging GPU metrics because creating `GPUMonitor` failed with error: `pynvml` is not installed, to log GPU metrics please run `pip install pynvml` to install it..\n",
      "2024/11/21 14:28:59 INFO mlflow.system_metrics.system_metrics_monitor: Started monitoring system metrics.\n",
      "/opt/conda/lib/python3.11/site-packages/_distutils_hack/__init__.py:18: UserWarning: Distutils was imported before Setuptools, but importing Setuptools also replaces the `distutils` module in `sys.modules`. This may lead to undesirable behaviors or errors. To avoid these issues, avoid using distutils directly, ensure that setuptools is installed in the traditional way (e.g. not an editable install), and/or make sure that setuptools is always imported before distutils.\n",
      "  warnings.warn(\n",
      "/opt/conda/lib/python3.11/site-packages/_distutils_hack/__init__.py:33: UserWarning: Setuptools is replacing distutils.\n",
      "  warnings.warn(\"Setuptools is replacing distutils.\")\n"
     ]
    },
    {
     "data": {
      "application/vnd.jupyter.widget-view+json": {
       "model_id": "5707ea2411ab4e1fa993fecee7442600",
       "version_major": 2,
       "version_minor": 0
      },
      "text/plain": [
       "Downloading artifacts:   0%|          | 0/5 [00:00<?, ?it/s]"
      ]
     },
     "metadata": {},
     "output_type": "display_data"
    },
    {
     "name": "stderr",
     "output_type": "stream",
     "text": [
      "2024/11/21 14:30:23 INFO mlflow.models.evaluation.default_evaluator: Computing model predictions.\n",
      "2024/11/21 14:30:23 INFO mlflow.models.evaluation.default_evaluator: Testing metrics on first row...\n",
      "2024/11/21 14:30:23 WARNING mlflow.models.evaluation.default_evaluator: SHAP or matplotlib package is not installed, so model explainability insights will not be logged.\n",
      "2024/11/21 14:30:23 INFO mlflow.tracking._tracking_service.client: 🏃 View run RandomForest at: http://mlflow-service:5000/#/experiments/270645224134058005/runs/e22d5ff028c142dc83bedb8ad8f48cf3.\n",
      "2024/11/21 14:30:23 INFO mlflow.tracking._tracking_service.client: 🧪 View experiment at: http://mlflow-service:5000/#/experiments/270645224134058005.\n",
      "2024/11/21 14:30:23 INFO mlflow.system_metrics.system_metrics_monitor: Stopping system metrics monitoring...\n",
      "2024/11/21 14:30:23 INFO mlflow.system_metrics.system_metrics_monitor: Successfully terminated system metrics monitoring!\n",
      "2024/11/21 14:30:23 WARNING mlflow.system_metrics.system_metrics_monitor: Skip logging GPU metrics because creating `GPUMonitor` failed with error: `pynvml` is not installed, to log GPU metrics please run `pip install pynvml` to install it..\n",
      "2024/11/21 14:30:23 INFO mlflow.system_metrics.system_metrics_monitor: Started monitoring system metrics.\n",
      "/opt/conda/lib/python3.11/site-packages/_distutils_hack/__init__.py:18: UserWarning: Distutils was imported before Setuptools, but importing Setuptools also replaces the `distutils` module in `sys.modules`. This may lead to undesirable behaviors or errors. To avoid these issues, avoid using distutils directly, ensure that setuptools is installed in the traditional way (e.g. not an editable install), and/or make sure that setuptools is always imported before distutils.\n",
      "  warnings.warn(\n",
      "/opt/conda/lib/python3.11/site-packages/_distutils_hack/__init__.py:33: UserWarning: Setuptools is replacing distutils.\n",
      "  warnings.warn(\"Setuptools is replacing distutils.\")\n"
     ]
    },
    {
     "data": {
      "application/vnd.jupyter.widget-view+json": {
       "model_id": "1028add8b23f4661b051850bef1eacff",
       "version_major": 2,
       "version_minor": 0
      },
      "text/plain": [
       "Downloading artifacts:   0%|          | 0/5 [00:00<?, ?it/s]"
      ]
     },
     "metadata": {},
     "output_type": "display_data"
    },
    {
     "name": "stderr",
     "output_type": "stream",
     "text": [
      "2024/11/21 14:30:30 INFO mlflow.models.evaluation.default_evaluator: Computing model predictions.\n",
      "2024/11/21 14:30:30 INFO mlflow.models.evaluation.default_evaluator: Testing metrics on first row...\n",
      "2024/11/21 14:30:30 WARNING mlflow.models.evaluation.default_evaluator: SHAP or matplotlib package is not installed, so model explainability insights will not be logged.\n",
      "2024/11/21 14:30:30 INFO mlflow.tracking._tracking_service.client: 🏃 View run LinearRegression at: http://mlflow-service:5000/#/experiments/270645224134058005/runs/949e5b1d8fcf472fb18473812eb6fdbd.\n",
      "2024/11/21 14:30:30 INFO mlflow.tracking._tracking_service.client: 🧪 View experiment at: http://mlflow-service:5000/#/experiments/270645224134058005.\n",
      "2024/11/21 14:30:30 INFO mlflow.system_metrics.system_metrics_monitor: Stopping system metrics monitoring...\n",
      "2024/11/21 14:30:30 INFO mlflow.system_metrics.system_metrics_monitor: Successfully terminated system metrics monitoring!\n",
      "2024/11/21 14:30:31 WARNING mlflow.system_metrics.system_metrics_monitor: Skip logging GPU metrics because creating `GPUMonitor` failed with error: `pynvml` is not installed, to log GPU metrics please run `pip install pynvml` to install it..\n",
      "2024/11/21 14:30:31 INFO mlflow.system_metrics.system_metrics_monitor: Started monitoring system metrics.\n",
      "/opt/conda/lib/python3.11/site-packages/_distutils_hack/__init__.py:18: UserWarning: Distutils was imported before Setuptools, but importing Setuptools also replaces the `distutils` module in `sys.modules`. This may lead to undesirable behaviors or errors. To avoid these issues, avoid using distutils directly, ensure that setuptools is installed in the traditional way (e.g. not an editable install), and/or make sure that setuptools is always imported before distutils.\n",
      "  warnings.warn(\n",
      "/opt/conda/lib/python3.11/site-packages/_distutils_hack/__init__.py:33: UserWarning: Setuptools is replacing distutils.\n",
      "  warnings.warn(\"Setuptools is replacing distutils.\")\n"
     ]
    },
    {
     "data": {
      "application/vnd.jupyter.widget-view+json": {
       "model_id": "c5cf0708318e48979a320aa7f136cceb",
       "version_major": 2,
       "version_minor": 0
      },
      "text/plain": [
       "Downloading artifacts:   0%|          | 0/5 [00:00<?, ?it/s]"
      ]
     },
     "metadata": {},
     "output_type": "display_data"
    },
    {
     "name": "stderr",
     "output_type": "stream",
     "text": [
      "2024/11/21 14:30:44 INFO mlflow.models.evaluation.default_evaluator: Computing model predictions.\n",
      "2024/11/21 14:30:44 INFO mlflow.models.evaluation.default_evaluator: Testing metrics on first row...\n",
      "2024/11/21 14:30:44 WARNING mlflow.models.evaluation.default_evaluator: SHAP or matplotlib package is not installed, so model explainability insights will not be logged.\n",
      "2024/11/21 14:30:44 INFO mlflow.tracking._tracking_service.client: 🏃 View run HistGB at: http://mlflow-service:5000/#/experiments/270645224134058005/runs/3b1fd66d0be94606b20e12412f799601.\n",
      "2024/11/21 14:30:44 INFO mlflow.tracking._tracking_service.client: 🧪 View experiment at: http://mlflow-service:5000/#/experiments/270645224134058005.\n",
      "2024/11/21 14:30:44 INFO mlflow.system_metrics.system_metrics_monitor: Stopping system metrics monitoring...\n",
      "2024/11/21 14:30:44 INFO mlflow.system_metrics.system_metrics_monitor: Successfully terminated system metrics monitoring!\n",
      "2024/11/21 14:30:44 INFO mlflow.tracking._tracking_service.client: 🏃 View run parent_run at: http://mlflow-service:5000/#/experiments/270645224134058005/runs/fc0105a6bd6d4271a114661e60e8bba3.\n",
      "2024/11/21 14:30:44 INFO mlflow.tracking._tracking_service.client: 🧪 View experiment at: http://mlflow-service:5000/#/experiments/270645224134058005.\n",
      "2024/11/21 14:30:44 INFO mlflow.system_metrics.system_metrics_monitor: Stopping system metrics monitoring...\n",
      "2024/11/21 14:30:44 INFO mlflow.system_metrics.system_metrics_monitor: Successfully terminated system metrics monitoring!\n"
     ]
    }
   ],
   "source": [
    "# Создадим parent run.\n",
    "with mlflow.start_run(run_name=\"parent_run\", experiment_id = experiment_id, description = \"parent\") as parent_run:\n",
    "    for model_name in models.keys():\n",
    "        # Запустим child run на каждую модель.\n",
    "        with mlflow.start_run(run_name=model_name, experiment_id=experiment_id, nested=True) as child_run:\n",
    "            model = models[model_name]\n",
    "            \n",
    "            # Обучим модель.\n",
    "            model.fit(pd.DataFrame(X_train), y_train)\n",
    "        \n",
    "            # Сделаем предсказание.\n",
    "            prediction = model.predict(X_val)\n",
    "        \n",
    "            # Создадим валидационный датасет.\n",
    "            eval_df = X_val.copy()\n",
    "            eval_df[\"target\"] = y_val\n",
    "        \n",
    "            # Сохраним результаты обучения с помощью MLFlow.\n",
    "            signature = infer_signature(X_test, prediction)\n",
    "            model_info = mlflow.sklearn.log_model(model, \"logreg\", signature=signature)\n",
    "            mlflow.evaluate(\n",
    "                model=model_info.model_uri,\n",
    "                data=eval_df,\n",
    "                targets=\"target\",\n",
    "                model_type=\"regressor\",\n",
    "                evaluators=[\"default\"],\n",
    "            )"
   ]
  },
  {
   "cell_type": "markdown",
   "id": "d7a3b6a8-f5b7-4404-a067-0af732d47b35",
   "metadata": {},
   "source": [
    "# Работа с реджистри"
   ]
  },
  {
   "cell_type": "code",
   "execution_count": 40,
   "id": "bb4dedb2-b594-4e12-a62d-bd8f4b91ff70",
   "metadata": {},
   "outputs": [
    {
     "name": "stderr",
     "output_type": "stream",
     "text": [
      "2024/11/21 14:47:20 WARNING mlflow.system_metrics.system_metrics_monitor: Skip logging GPU metrics because creating `GPUMonitor` failed with error: `pynvml` is not installed, to log GPU metrics please run `pip install pynvml` to install it..\n",
      "2024/11/21 14:47:20 INFO mlflow.system_metrics.system_metrics_monitor: Started monitoring system metrics.\n",
      "/opt/conda/lib/python3.11/site-packages/_distutils_hack/__init__.py:18: UserWarning: Distutils was imported before Setuptools, but importing Setuptools also replaces the `distutils` module in `sys.modules`. This may lead to undesirable behaviors or errors. To avoid these issues, avoid using distutils directly, ensure that setuptools is installed in the traditional way (e.g. not an editable install), and/or make sure that setuptools is always imported before distutils.\n",
      "  warnings.warn(\n",
      "/opt/conda/lib/python3.11/site-packages/_distutils_hack/__init__.py:33: UserWarning: Setuptools is replacing distutils.\n",
      "  warnings.warn(\"Setuptools is replacing distutils.\")\n"
     ]
    },
    {
     "data": {
      "application/vnd.jupyter.widget-view+json": {
       "model_id": "42aae51de9a54f719ed276e2cdbf39e7",
       "version_major": 2,
       "version_minor": 0
      },
      "text/plain": [
       "Downloading artifacts:   0%|          | 0/5 [00:00<?, ?it/s]"
      ]
     },
     "metadata": {},
     "output_type": "display_data"
    },
    {
     "name": "stderr",
     "output_type": "stream",
     "text": [
      "2024/11/21 14:47:29 INFO mlflow.models.evaluation.default_evaluator: Computing model predictions.\n",
      "2024/11/21 14:47:29 INFO mlflow.models.evaluation.default_evaluator: Testing metrics on first row...\n",
      "2024/11/21 14:47:29 WARNING mlflow.models.evaluation.default_evaluator: SHAP or matplotlib package is not installed, so model explainability insights will not be logged.\n",
      "2024/11/21 14:47:29 INFO mlflow.tracking._tracking_service.client: 🏃 View run grandiose-elk-954 at: http://mlflow-service:5000/#/experiments/270645224134058005/runs/8f50c12444db40c09a4173effa2830ff.\n",
      "2024/11/21 14:47:29 INFO mlflow.tracking._tracking_service.client: 🧪 View experiment at: http://mlflow-service:5000/#/experiments/270645224134058005.\n",
      "2024/11/21 14:47:29 INFO mlflow.system_metrics.system_metrics_monitor: Stopping system metrics monitoring...\n",
      "2024/11/21 14:47:30 INFO mlflow.system_metrics.system_metrics_monitor: Successfully terminated system metrics monitoring!\n"
     ]
    }
   ],
   "source": [
    "# Запустим свой первый run в рамках созданного выше эксперимента.\n",
    "with mlflow.start_run() as run:\n",
    "    # Обучим модель.\n",
    "    model.fit(pd.DataFrame(X_train), y_train)\n",
    "\n",
    "    # Сделаем предсказание.\n",
    "    prediction = model.predict(X_val)\n",
    "\n",
    "    # Создадим валидационный датасет.\n",
    "    eval_df = X_val.copy()\n",
    "    eval_df[\"target\"] = y_val\n",
    "\n",
    "    # Сохраним результаты обучения с помощью MLFlow.\n",
    "    signature = infer_signature(X_test, prediction)\n",
    "    model_info = mlflow.sklearn.log_model(model, 'linreg', signature=signature)\n",
    "    mlflow.evaluate(\n",
    "        model=model_info.model_uri,\n",
    "        data=eval_df,\n",
    "        targets=\"target\",\n",
    "        model_type=\"regressor\",\n",
    "        evaluators=[\"default\"],\n",
    "    )"
   ]
  },
  {
   "cell_type": "code",
   "execution_count": 41,
   "id": "93d8e0a1-1272-40f9-b870-95213be8330b",
   "metadata": {},
   "outputs": [
    {
     "data": {
      "text/plain": [
       "'runs:/8f50c12444db40c09a4173effa2830ff/linreg'"
      ]
     },
     "execution_count": 41,
     "metadata": {},
     "output_type": "execute_result"
    }
   ],
   "source": [
    "model_info.model_uri"
   ]
  },
  {
   "cell_type": "markdown",
   "id": "5b3d4e14-eb0e-4ba3-b8ef-370135d593a4",
   "metadata": {},
   "source": [
    "Регистрация модели и версии способ 1"
   ]
  },
  {
   "cell_type": "code",
   "execution_count": 42,
   "id": "87b16bab-7237-4c9b-85cf-b6ed3afee2b5",
   "metadata": {},
   "outputs": [
    {
     "name": "stderr",
     "output_type": "stream",
     "text": [
      "Successfully registered model 'linreg-model'.\n",
      "2024/11/21 14:51:59 INFO mlflow.store.model_registry.abstract_store: Waiting up to 300 seconds for model version to finish creation. Model name: linreg-model, version 1\n",
      "Created version '1' of model 'linreg-model'.\n"
     ]
    },
    {
     "data": {
      "text/plain": [
       "<ModelVersion: aliases=[], creation_timestamp=1732200719938, current_stage='None', description='', last_updated_timestamp=1732200719938, name='linreg-model', run_id='8f50c12444db40c09a4173effa2830ff', run_link='', source='s3://kirillbucket/mlflow/270645224134058005/8f50c12444db40c09a4173effa2830ff/artifacts/linreg', status='READY', status_message='', tags={}, user_id='', version='1'>"
      ]
     },
     "execution_count": 42,
     "metadata": {},
     "output_type": "execute_result"
    }
   ],
   "source": [
    "mlflow.register_model(model_uri=model_info.model_uri, name='linreg-model')"
   ]
  },
  {
   "cell_type": "markdown",
   "id": "cf8ad4a7-9dc6-4e0b-b104-74841b40ef04",
   "metadata": {},
   "source": [
    "Регистрация версии способ 2"
   ]
  },
  {
   "cell_type": "code",
   "execution_count": 43,
   "id": "4f802a3e-80e5-4c8e-ae78-ced45404e8cc",
   "metadata": {},
   "outputs": [],
   "source": [
    "client = MlflowClient()"
   ]
  },
  {
   "cell_type": "code",
   "execution_count": 44,
   "id": "f5e2e7d3-718e-442c-aed3-9ea0019a181a",
   "metadata": {},
   "outputs": [
    {
     "name": "stderr",
     "output_type": "stream",
     "text": [
      "2024/11/21 14:56:26 INFO mlflow.store.model_registry.abstract_store: Waiting up to 300 seconds for model version to finish creation. Model name: linreg-model, version 2\n"
     ]
    },
    {
     "data": {
      "text/plain": [
       "<ModelVersion: aliases=[], creation_timestamp=1732200986145, current_stage='None', description='', last_updated_timestamp=1732200986145, name='linreg-model', run_id='8f50c12444db40c09a4173effa2830ff', run_link='', source='runs:/8f50c12444db40c09a4173effa2830ff/linreg', status='READY', status_message='', tags={}, user_id='', version='2'>"
      ]
     },
     "execution_count": 44,
     "metadata": {},
     "output_type": "execute_result"
    }
   ],
   "source": [
    "client.create_model_version(name='linreg-model', source=model_info.model_uri, run_id=run.info.run_id)"
   ]
  },
  {
   "cell_type": "markdown",
   "id": "7fce5f1d-84ed-4773-bd59-5b67d7607a12",
   "metadata": {},
   "source": [
    "Регистрация версии способ 3"
   ]
  },
  {
   "cell_type": "code",
   "execution_count": 45,
   "id": "fc4d5ffa-425a-459b-a6e3-0702af252d42",
   "metadata": {},
   "outputs": [
    {
     "name": "stderr",
     "output_type": "stream",
     "text": [
      "2024/11/21 14:57:45 WARNING mlflow.system_metrics.system_metrics_monitor: Skip logging GPU metrics because creating `GPUMonitor` failed with error: `pynvml` is not installed, to log GPU metrics please run `pip install pynvml` to install it..\n",
      "2024/11/21 14:57:45 INFO mlflow.system_metrics.system_metrics_monitor: Started monitoring system metrics.\n",
      "2024/11/21 14:57:45 WARNING mlflow.system_metrics.system_metrics_monitor: Skip logging GPU metrics because creating `GPUMonitor` failed with error: `pynvml` is not installed, to log GPU metrics please run `pip install pynvml` to install it..\n",
      "2024/11/21 14:57:45 INFO mlflow.system_metrics.system_metrics_monitor: Started monitoring system metrics.\n",
      "/opt/conda/lib/python3.11/site-packages/_distutils_hack/__init__.py:18: UserWarning: Distutils was imported before Setuptools, but importing Setuptools also replaces the `distutils` module in `sys.modules`. This may lead to undesirable behaviors or errors. To avoid these issues, avoid using distutils directly, ensure that setuptools is installed in the traditional way (e.g. not an editable install), and/or make sure that setuptools is always imported before distutils.\n",
      "  warnings.warn(\n",
      "/opt/conda/lib/python3.11/site-packages/_distutils_hack/__init__.py:33: UserWarning: Setuptools is replacing distutils.\n",
      "  warnings.warn(\"Setuptools is replacing distutils.\")\n",
      "Successfully registered model 'sk-learn-RandomForest-reg-model'.\n",
      "2024/11/21 14:58:29 INFO mlflow.store.model_registry.abstract_store: Waiting up to 300 seconds for model version to finish creation. Model name: sk-learn-RandomForest-reg-model, version 1\n",
      "Created version '1' of model 'sk-learn-RandomForest-reg-model'.\n"
     ]
    },
    {
     "data": {
      "application/vnd.jupyter.widget-view+json": {
       "model_id": "1c7ed83e75ed47bebdd4d21a1710b61e",
       "version_major": 2,
       "version_minor": 0
      },
      "text/plain": [
       "Downloading artifacts:   0%|          | 0/5 [00:00<?, ?it/s]"
      ]
     },
     "metadata": {},
     "output_type": "display_data"
    },
    {
     "name": "stderr",
     "output_type": "stream",
     "text": [
      "2024/11/21 14:58:42 INFO mlflow.models.evaluation.default_evaluator: Computing model predictions.\n",
      "2024/11/21 14:58:42 INFO mlflow.models.evaluation.default_evaluator: Testing metrics on first row...\n",
      "2024/11/21 14:58:42 WARNING mlflow.models.evaluation.default_evaluator: SHAP or matplotlib package is not installed, so model explainability insights will not be logged.\n",
      "2024/11/21 14:58:43 INFO mlflow.tracking._tracking_service.client: 🏃 View run RandomForest at: http://mlflow-service:5000/#/experiments/270645224134058005/runs/70e39a0a42bb4628b9a2d2d73920ffe2.\n",
      "2024/11/21 14:58:43 INFO mlflow.tracking._tracking_service.client: 🧪 View experiment at: http://mlflow-service:5000/#/experiments/270645224134058005.\n",
      "2024/11/21 14:58:43 INFO mlflow.system_metrics.system_metrics_monitor: Stopping system metrics monitoring...\n",
      "2024/11/21 14:58:43 INFO mlflow.system_metrics.system_metrics_monitor: Successfully terminated system metrics monitoring!\n",
      "2024/11/21 14:58:43 WARNING mlflow.system_metrics.system_metrics_monitor: Skip logging GPU metrics because creating `GPUMonitor` failed with error: `pynvml` is not installed, to log GPU metrics please run `pip install pynvml` to install it..\n",
      "2024/11/21 14:58:43 INFO mlflow.system_metrics.system_metrics_monitor: Started monitoring system metrics.\n",
      "/opt/conda/lib/python3.11/site-packages/_distutils_hack/__init__.py:18: UserWarning: Distutils was imported before Setuptools, but importing Setuptools also replaces the `distutils` module in `sys.modules`. This may lead to undesirable behaviors or errors. To avoid these issues, avoid using distutils directly, ensure that setuptools is installed in the traditional way (e.g. not an editable install), and/or make sure that setuptools is always imported before distutils.\n",
      "  warnings.warn(\n",
      "/opt/conda/lib/python3.11/site-packages/_distutils_hack/__init__.py:33: UserWarning: Setuptools is replacing distutils.\n",
      "  warnings.warn(\"Setuptools is replacing distutils.\")\n",
      "Successfully registered model 'sk-learn-LinearRegression-reg-model'.\n",
      "2024/11/21 14:58:48 INFO mlflow.store.model_registry.abstract_store: Waiting up to 300 seconds for model version to finish creation. Model name: sk-learn-LinearRegression-reg-model, version 1\n",
      "Created version '1' of model 'sk-learn-LinearRegression-reg-model'.\n"
     ]
    },
    {
     "data": {
      "application/vnd.jupyter.widget-view+json": {
       "model_id": "82814c4a70004ada87c0bc1b63eb028e",
       "version_major": 2,
       "version_minor": 0
      },
      "text/plain": [
       "Downloading artifacts:   0%|          | 0/5 [00:00<?, ?it/s]"
      ]
     },
     "metadata": {},
     "output_type": "display_data"
    },
    {
     "name": "stderr",
     "output_type": "stream",
     "text": [
      "2024/11/21 14:58:48 INFO mlflow.models.evaluation.default_evaluator: Computing model predictions.\n",
      "2024/11/21 14:58:48 INFO mlflow.models.evaluation.default_evaluator: Testing metrics on first row...\n",
      "2024/11/21 14:58:48 WARNING mlflow.models.evaluation.default_evaluator: SHAP or matplotlib package is not installed, so model explainability insights will not be logged.\n",
      "2024/11/21 14:58:48 INFO mlflow.tracking._tracking_service.client: 🏃 View run LinearRegression at: http://mlflow-service:5000/#/experiments/270645224134058005/runs/f7000d0b5f78446d95528373f4733330.\n",
      "2024/11/21 14:58:48 INFO mlflow.tracking._tracking_service.client: 🧪 View experiment at: http://mlflow-service:5000/#/experiments/270645224134058005.\n",
      "2024/11/21 14:58:48 INFO mlflow.system_metrics.system_metrics_monitor: Stopping system metrics monitoring...\n",
      "2024/11/21 14:58:48 INFO mlflow.system_metrics.system_metrics_monitor: Successfully terminated system metrics monitoring!\n",
      "2024/11/21 14:58:48 WARNING mlflow.system_metrics.system_metrics_monitor: Skip logging GPU metrics because creating `GPUMonitor` failed with error: `pynvml` is not installed, to log GPU metrics please run `pip install pynvml` to install it..\n",
      "2024/11/21 14:58:48 INFO mlflow.system_metrics.system_metrics_monitor: Started monitoring system metrics.\n",
      "/opt/conda/lib/python3.11/site-packages/_distutils_hack/__init__.py:18: UserWarning: Distutils was imported before Setuptools, but importing Setuptools also replaces the `distutils` module in `sys.modules`. This may lead to undesirable behaviors or errors. To avoid these issues, avoid using distutils directly, ensure that setuptools is installed in the traditional way (e.g. not an editable install), and/or make sure that setuptools is always imported before distutils.\n",
      "  warnings.warn(\n",
      "/opt/conda/lib/python3.11/site-packages/_distutils_hack/__init__.py:33: UserWarning: Setuptools is replacing distutils.\n",
      "  warnings.warn(\"Setuptools is replacing distutils.\")\n",
      "Successfully registered model 'sk-learn-HistGB-reg-model'.\n",
      "2024/11/21 14:58:53 INFO mlflow.store.model_registry.abstract_store: Waiting up to 300 seconds for model version to finish creation. Model name: sk-learn-HistGB-reg-model, version 1\n",
      "Created version '1' of model 'sk-learn-HistGB-reg-model'.\n"
     ]
    },
    {
     "data": {
      "application/vnd.jupyter.widget-view+json": {
       "model_id": "cb8794ebab0148579bcb6eb53ba5b86b",
       "version_major": 2,
       "version_minor": 0
      },
      "text/plain": [
       "Downloading artifacts:   0%|          | 0/5 [00:00<?, ?it/s]"
      ]
     },
     "metadata": {},
     "output_type": "display_data"
    },
    {
     "name": "stderr",
     "output_type": "stream",
     "text": [
      "2024/11/21 14:58:53 INFO mlflow.models.evaluation.default_evaluator: Computing model predictions.\n",
      "2024/11/21 14:58:53 INFO mlflow.models.evaluation.default_evaluator: Testing metrics on first row...\n",
      "2024/11/21 14:58:53 WARNING mlflow.models.evaluation.default_evaluator: SHAP or matplotlib package is not installed, so model explainability insights will not be logged.\n",
      "2024/11/21 14:58:53 INFO mlflow.tracking._tracking_service.client: 🏃 View run HistGB at: http://mlflow-service:5000/#/experiments/270645224134058005/runs/6df62b40ae5349e6a80ef92776702bce.\n",
      "2024/11/21 14:58:53 INFO mlflow.tracking._tracking_service.client: 🧪 View experiment at: http://mlflow-service:5000/#/experiments/270645224134058005.\n",
      "2024/11/21 14:58:53 INFO mlflow.system_metrics.system_metrics_monitor: Stopping system metrics monitoring...\n",
      "2024/11/21 14:58:53 INFO mlflow.system_metrics.system_metrics_monitor: Successfully terminated system metrics monitoring!\n",
      "2024/11/21 14:58:53 INFO mlflow.tracking._tracking_service.client: 🏃 View run parent_run at: http://mlflow-service:5000/#/experiments/270645224134058005/runs/5362583e94554bacbb297b86c349827e.\n",
      "2024/11/21 14:58:53 INFO mlflow.tracking._tracking_service.client: 🧪 View experiment at: http://mlflow-service:5000/#/experiments/270645224134058005.\n",
      "2024/11/21 14:58:53 INFO mlflow.system_metrics.system_metrics_monitor: Stopping system metrics monitoring...\n",
      "2024/11/21 14:58:53 INFO mlflow.system_metrics.system_metrics_monitor: Successfully terminated system metrics monitoring!\n"
     ]
    }
   ],
   "source": [
    "# Создадим parent run.\n",
    "with mlflow.start_run(run_name=\"parent_run\", experiment_id = experiment_id, description = \"parent\") as parent_run:\n",
    "    for model_name in models.keys():\n",
    "        # Запустим child run на каждую модель.\n",
    "        with mlflow.start_run(run_name=model_name, experiment_id=experiment_id, nested=True) as child_run:\n",
    "            model = models[model_name]\n",
    "            \n",
    "            # Обучим модель.\n",
    "            model.fit(pd.DataFrame(X_train), y_train)\n",
    "        \n",
    "            # Сделаем предсказание.\n",
    "            prediction = model.predict(X_val)\n",
    "\n",
    "            # Создадим валидационный датасет.\n",
    "            eval_df = X_val.copy()\n",
    "            eval_df[\"target\"] = y_val\n",
    "        \n",
    "            # Сохраним результаты обучения с помощью MLFlow.\n",
    "            signature = infer_signature(X_test, prediction)\n",
    "            model_info = mlflow.sklearn.log_model(model, \"linreg\", signature=signature, \n",
    "                                                  registered_model_name=f\"sk-learn-{model_name}-reg-model\")\n",
    "            mlflow.evaluate(\n",
    "                model=model_info.model_uri,\n",
    "                data=eval_df,\n",
    "                targets=\"target\",\n",
    "                model_type=\"regressor\",\n",
    "                evaluators=[\"default\"],\n",
    "            )"
   ]
  },
  {
   "cell_type": "code",
   "execution_count": 47,
   "id": "0ccf3664-281e-48b3-b3d0-91c1856d40d6",
   "metadata": {},
   "outputs": [
    {
     "data": {
      "application/vnd.jupyter.widget-view+json": {
       "model_id": "10fddbe20e6f4235b11adf33c0c6fb7c",
       "version_major": 2,
       "version_minor": 0
      },
      "text/plain": [
       "Downloading artifacts:   0%|          | 0/5 [00:00<?, ?it/s]"
      ]
     },
     "metadata": {},
     "output_type": "display_data"
    }
   ],
   "source": [
    "model = mlflow.sklearn.load_model(model_uri='s3://kirillbucket/mlflow/270645224134058005/6df62b40ae5349e6a80ef92776702bce/artifacts/linreg')"
   ]
  },
  {
   "cell_type": "code",
   "execution_count": 48,
   "id": "26f8fd8b-e1fc-4951-9db3-7da3c1ba0009",
   "metadata": {},
   "outputs": [
    {
     "data": {
      "text/plain": [
       "array([0.93816046, 3.37642535, 1.5238094 , ..., 1.56865319, 3.1925248 ,\n",
       "       0.80610526])"
      ]
     },
     "execution_count": 48,
     "metadata": {},
     "output_type": "execute_result"
    }
   ],
   "source": [
    "model.predict(X_test)"
   ]
  },
  {
   "cell_type": "code",
   "execution_count": null,
   "id": "26515651-06cd-4526-9bf8-442bf1f8cb57",
   "metadata": {},
   "outputs": [],
   "source": []
  }
 ],
 "metadata": {
  "kernelspec": {
   "display_name": "Python 3 (ipykernel)",
   "language": "python",
   "name": "python3"
  },
  "language_info": {
   "codemirror_mode": {
    "name": "ipython",
    "version": 3
   },
   "file_extension": ".py",
   "mimetype": "text/x-python",
   "name": "python",
   "nbconvert_exporter": "python",
   "pygments_lexer": "ipython3",
   "version": "3.11.4"
  }
 },
 "nbformat": 4,
 "nbformat_minor": 5
}
